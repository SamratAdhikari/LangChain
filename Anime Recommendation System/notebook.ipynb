{
 "cells": [
  {
   "cell_type": "markdown",
   "id": "a79ecc46-9006-4637-9daf-b4d2dab6960f",
   "metadata": {},
   "source": [
    "### Anime Recommendation System"
   ]
  },
  {
   "cell_type": "code",
   "execution_count": 44,
   "id": "e4b804fa-7266-4856-82d9-6523e99f3bfd",
   "metadata": {},
   "outputs": [],
   "source": [
    "import pandas as pd\n",
    "from langchain.chains import RetrievalQA\n",
    "from langchain.embeddings.huggingface import HuggingFaceEmbeddings\n",
    "from langchain.document_loaders import TextLoader\n",
    "from langchain.text_splitter import CharacterTextSplitter\n",
    "from langchain.vectorstores import Chroma\n",
    "from langchain.document_loaders.csv_loader import CSVLoader\n",
    "from langchain_groq import ChatGroq\n",
    "from dotenv import load_dotenv\n",
    "import os"
   ]
  },
  {
   "cell_type": "code",
   "execution_count": 9,
   "id": "45fa60ab-8012-432c-8b3e-7224482a26f4",
   "metadata": {},
   "outputs": [
    {
     "data": {
      "text/html": [
       "<div>\n",
       "<style scoped>\n",
       "    .dataframe tbody tr th:only-of-type {\n",
       "        vertical-align: middle;\n",
       "    }\n",
       "\n",
       "    .dataframe tbody tr th {\n",
       "        vertical-align: top;\n",
       "    }\n",
       "\n",
       "    .dataframe thead th {\n",
       "        text-align: right;\n",
       "    }\n",
       "</style>\n",
       "<table border=\"1\" class=\"dataframe\">\n",
       "  <thead>\n",
       "    <tr style=\"text-align: right;\">\n",
       "      <th></th>\n",
       "      <th>MAL_ID</th>\n",
       "      <th>Name</th>\n",
       "      <th>Score</th>\n",
       "      <th>Genres</th>\n",
       "      <th>sypnopsis</th>\n",
       "    </tr>\n",
       "  </thead>\n",
       "  <tbody>\n",
       "    <tr>\n",
       "      <th>0</th>\n",
       "      <td>1</td>\n",
       "      <td>Cowboy Bebop</td>\n",
       "      <td>8.78</td>\n",
       "      <td>Action, Adventure, Comedy, Drama, Sci-Fi, Space</td>\n",
       "      <td>In the year 2071, humanity has colonized sever...</td>\n",
       "    </tr>\n",
       "    <tr>\n",
       "      <th>1</th>\n",
       "      <td>5</td>\n",
       "      <td>Cowboy Bebop: Tengoku no Tobira</td>\n",
       "      <td>8.39</td>\n",
       "      <td>Action, Drama, Mystery, Sci-Fi, Space</td>\n",
       "      <td>other day, another bounty—such is the life of ...</td>\n",
       "    </tr>\n",
       "    <tr>\n",
       "      <th>2</th>\n",
       "      <td>6</td>\n",
       "      <td>Trigun</td>\n",
       "      <td>8.24</td>\n",
       "      <td>Action, Sci-Fi, Adventure, Comedy, Drama, Shounen</td>\n",
       "      <td>Vash the Stampede is the man with a $$60,000,0...</td>\n",
       "    </tr>\n",
       "    <tr>\n",
       "      <th>3</th>\n",
       "      <td>7</td>\n",
       "      <td>Witch Hunter Robin</td>\n",
       "      <td>7.27</td>\n",
       "      <td>Action, Mystery, Police, Supernatural, Drama, ...</td>\n",
       "      <td>ches are individuals with special powers like ...</td>\n",
       "    </tr>\n",
       "    <tr>\n",
       "      <th>4</th>\n",
       "      <td>8</td>\n",
       "      <td>Bouken Ou Beet</td>\n",
       "      <td>6.98</td>\n",
       "      <td>Adventure, Fantasy, Shounen, Supernatural</td>\n",
       "      <td>It is the dark century and the people are suff...</td>\n",
       "    </tr>\n",
       "  </tbody>\n",
       "</table>\n",
       "</div>"
      ],
      "text/plain": [
       "   MAL_ID                             Name  Score  \\\n",
       "0       1                     Cowboy Bebop   8.78   \n",
       "1       5  Cowboy Bebop: Tengoku no Tobira   8.39   \n",
       "2       6                           Trigun   8.24   \n",
       "3       7               Witch Hunter Robin   7.27   \n",
       "4       8                   Bouken Ou Beet   6.98   \n",
       "\n",
       "                                              Genres  \\\n",
       "0    Action, Adventure, Comedy, Drama, Sci-Fi, Space   \n",
       "1              Action, Drama, Mystery, Sci-Fi, Space   \n",
       "2  Action, Sci-Fi, Adventure, Comedy, Drama, Shounen   \n",
       "3  Action, Mystery, Police, Supernatural, Drama, ...   \n",
       "4          Adventure, Fantasy, Shounen, Supernatural   \n",
       "\n",
       "                                           sypnopsis  \n",
       "0  In the year 2071, humanity has colonized sever...  \n",
       "1  other day, another bounty—such is the life of ...  \n",
       "2  Vash the Stampede is the man with a $$60,000,0...  \n",
       "3  ches are individuals with special powers like ...  \n",
       "4  It is the dark century and the people are suff...  "
      ]
     },
     "execution_count": 9,
     "metadata": {},
     "output_type": "execute_result"
    }
   ],
   "source": [
    "anime = pd.read_csv(\"./data.csv\")\n",
    "anime.head()"
   ]
  },
  {
   "cell_type": "code",
   "execution_count": 10,
   "id": "8301bf37-91ea-41be-aa41-75a80316037d",
   "metadata": {},
   "outputs": [
    {
     "data": {
      "text/plain": [
       "MAL_ID       0\n",
       "Name         0\n",
       "Score        0\n",
       "Genres       0\n",
       "sypnopsis    0\n",
       "dtype: int64"
      ]
     },
     "execution_count": 10,
     "metadata": {},
     "output_type": "execute_result"
    }
   ],
   "source": [
    "anime.isnull().sum()"
   ]
  },
  {
   "cell_type": "code",
   "execution_count": 21,
   "id": "d9298c38-7d26-4d24-be2f-8facad029173",
   "metadata": {},
   "outputs": [],
   "source": [
    "anime['info'] = anime.apply(lambda row: f\"Title: {row['Name']}. Genre: {row['Genres']}. Overview: {row['sypnopsis']}\", axis=1) # combine everything"
   ]
  },
  {
   "cell_type": "code",
   "execution_count": 22,
   "id": "39703c8e-d843-4b29-878c-d9cb42da5039",
   "metadata": {},
   "outputs": [
    {
     "data": {
      "text/html": [
       "<div>\n",
       "<style scoped>\n",
       "    .dataframe tbody tr th:only-of-type {\n",
       "        vertical-align: middle;\n",
       "    }\n",
       "\n",
       "    .dataframe tbody tr th {\n",
       "        vertical-align: top;\n",
       "    }\n",
       "\n",
       "    .dataframe thead th {\n",
       "        text-align: right;\n",
       "    }\n",
       "</style>\n",
       "<table border=\"1\" class=\"dataframe\">\n",
       "  <thead>\n",
       "    <tr style=\"text-align: right;\">\n",
       "      <th></th>\n",
       "      <th>MAL_ID</th>\n",
       "      <th>Name</th>\n",
       "      <th>Score</th>\n",
       "      <th>Genres</th>\n",
       "      <th>sypnopsis</th>\n",
       "      <th>info</th>\n",
       "    </tr>\n",
       "  </thead>\n",
       "  <tbody>\n",
       "    <tr>\n",
       "      <th>0</th>\n",
       "      <td>1</td>\n",
       "      <td>Cowboy Bebop</td>\n",
       "      <td>8.78</td>\n",
       "      <td>Action, Adventure, Comedy, Drama, Sci-Fi, Space</td>\n",
       "      <td>In the year 2071, humanity has colonized sever...</td>\n",
       "      <td>Title: Cowboy Bebop. Genre: Action, Adventure,...</td>\n",
       "    </tr>\n",
       "    <tr>\n",
       "      <th>1</th>\n",
       "      <td>5</td>\n",
       "      <td>Cowboy Bebop: Tengoku no Tobira</td>\n",
       "      <td>8.39</td>\n",
       "      <td>Action, Drama, Mystery, Sci-Fi, Space</td>\n",
       "      <td>other day, another bounty—such is the life of ...</td>\n",
       "      <td>Title: Cowboy Bebop: Tengoku no Tobira. Genre:...</td>\n",
       "    </tr>\n",
       "    <tr>\n",
       "      <th>2</th>\n",
       "      <td>6</td>\n",
       "      <td>Trigun</td>\n",
       "      <td>8.24</td>\n",
       "      <td>Action, Sci-Fi, Adventure, Comedy, Drama, Shounen</td>\n",
       "      <td>Vash the Stampede is the man with a $$60,000,0...</td>\n",
       "      <td>Title: Trigun. Genre: Action, Sci-Fi, Adventur...</td>\n",
       "    </tr>\n",
       "    <tr>\n",
       "      <th>3</th>\n",
       "      <td>7</td>\n",
       "      <td>Witch Hunter Robin</td>\n",
       "      <td>7.27</td>\n",
       "      <td>Action, Mystery, Police, Supernatural, Drama, ...</td>\n",
       "      <td>ches are individuals with special powers like ...</td>\n",
       "      <td>Title: Witch Hunter Robin. Genre: Action, Myst...</td>\n",
       "    </tr>\n",
       "    <tr>\n",
       "      <th>4</th>\n",
       "      <td>8</td>\n",
       "      <td>Bouken Ou Beet</td>\n",
       "      <td>6.98</td>\n",
       "      <td>Adventure, Fantasy, Shounen, Supernatural</td>\n",
       "      <td>It is the dark century and the people are suff...</td>\n",
       "      <td>Title: Bouken Ou Beet. Genre: Adventure, Fanta...</td>\n",
       "    </tr>\n",
       "  </tbody>\n",
       "</table>\n",
       "</div>"
      ],
      "text/plain": [
       "   MAL_ID                             Name  Score  \\\n",
       "0       1                     Cowboy Bebop   8.78   \n",
       "1       5  Cowboy Bebop: Tengoku no Tobira   8.39   \n",
       "2       6                           Trigun   8.24   \n",
       "3       7               Witch Hunter Robin   7.27   \n",
       "4       8                   Bouken Ou Beet   6.98   \n",
       "\n",
       "                                              Genres  \\\n",
       "0    Action, Adventure, Comedy, Drama, Sci-Fi, Space   \n",
       "1              Action, Drama, Mystery, Sci-Fi, Space   \n",
       "2  Action, Sci-Fi, Adventure, Comedy, Drama, Shounen   \n",
       "3  Action, Mystery, Police, Supernatural, Drama, ...   \n",
       "4          Adventure, Fantasy, Shounen, Supernatural   \n",
       "\n",
       "                                           sypnopsis  \\\n",
       "0  In the year 2071, humanity has colonized sever...   \n",
       "1  other day, another bounty—such is the life of ...   \n",
       "2  Vash the Stampede is the man with a $$60,000,0...   \n",
       "3  ches are individuals with special powers like ...   \n",
       "4  It is the dark century and the people are suff...   \n",
       "\n",
       "                                                info  \n",
       "0  Title: Cowboy Bebop. Genre: Action, Adventure,...  \n",
       "1  Title: Cowboy Bebop: Tengoku no Tobira. Genre:...  \n",
       "2  Title: Trigun. Genre: Action, Sci-Fi, Adventur...  \n",
       "3  Title: Witch Hunter Robin. Genre: Action, Myst...  \n",
       "4  Title: Bouken Ou Beet. Genre: Adventure, Fanta...  "
      ]
     },
     "execution_count": 22,
     "metadata": {},
     "output_type": "execute_result"
    }
   ],
   "source": [
    "anime.head()"
   ]
  },
  {
   "cell_type": "code",
   "execution_count": 23,
   "id": "5f5c6423-ce2f-44eb-9b93-11b1e2e22d85",
   "metadata": {},
   "outputs": [],
   "source": [
    "anime[['info']].to_csv(\"anime_info.csv\", index=False)"
   ]
  },
  {
   "cell_type": "markdown",
   "id": "5a4b04f0-6ddf-4acb-81f3-63ddb8487be4",
   "metadata": {},
   "source": [
    "**Data Loader and Vector Store**"
   ]
  },
  {
   "cell_type": "code",
   "execution_count": 30,
   "id": "6d3d9aeb-4adc-467b-9bc4-88a94c9fd0d8",
   "metadata": {},
   "outputs": [],
   "source": [
    "loader = CSVLoader(file_path=\"./anime_info.csv\" , encoding=\"utf-8\")"
   ]
  },
  {
   "cell_type": "code",
   "execution_count": 35,
   "id": "7eb742ff-2fd7-4650-9f47-d49834223831",
   "metadata": {},
   "outputs": [],
   "source": [
    "data = loader.load()"
   ]
  },
  {
   "cell_type": "code",
   "execution_count": 33,
   "id": "e0b631e0-adcc-414a-99d5-f9446f11ba80",
   "metadata": {},
   "outputs": [],
   "source": [
    "text_splitter = CharacterTextSplitter(chunk_size=1000, chunk_overlap=0)"
   ]
  },
  {
   "cell_type": "code",
   "execution_count": 36,
   "id": "d3f1599a-4e8a-478a-9170-d0b3b6608af7",
   "metadata": {},
   "outputs": [],
   "source": [
    "texts = text_splitter.split_documents(data)"
   ]
  },
  {
   "cell_type": "code",
   "execution_count": 40,
   "id": "07fb83f4-7531-49eb-96f4-767c3520e969",
   "metadata": {},
   "outputs": [
    {
     "name": "stderr",
     "output_type": "stream",
     "text": [
      "C:\\Users\\samjh\\AppData\\Local\\Temp\\ipykernel_752\\3655315981.py:1: LangChainDeprecationWarning: Default values for HuggingFaceEmbeddings.model_name were deprecated in LangChain 0.2.16 and will be removed in 0.4.0. Explicitly pass a model_name to the HuggingFaceEmbeddings constructor instead.\n",
      "  embeddings = HuggingFaceEmbeddings()\n",
      "D:\\Programming\\LangChain\\Anime Recommendation System\\venv\\Lib\\site-packages\\tqdm\\auto.py:21: TqdmWarning: IProgress not found. Please update jupyter and ipywidgets. See https://ipywidgets.readthedocs.io/en/stable/user_install.html\n",
      "  from .autonotebook import tqdm as notebook_tqdm\n",
      "D:\\Programming\\LangChain\\Anime Recommendation System\\venv\\Lib\\site-packages\\huggingface_hub\\file_download.py:143: UserWarning: `huggingface_hub` cache-system uses symlinks by default to efficiently store duplicated files but your machine does not support them in C:\\Users\\samjh\\.cache\\huggingface\\hub\\models--sentence-transformers--all-mpnet-base-v2. Caching files will still work but in a degraded version that might require more space on your disk. This warning can be disabled by setting the `HF_HUB_DISABLE_SYMLINKS_WARNING` environment variable. For more details, see https://huggingface.co/docs/huggingface_hub/how-to-cache#limitations.\n",
      "To support symlinks on Windows, you either need to activate Developer Mode or to run Python as an administrator. In order to activate developer mode, see this article: https://docs.microsoft.com/en-us/windows/apps/get-started/enable-your-device-for-development\n",
      "  warnings.warn(message)\n",
      "Xet Storage is enabled for this repo, but the 'hf_xet' package is not installed. Falling back to regular HTTP download. For better performance, install the package with: `pip install huggingface_hub[hf_xet]` or `pip install hf_xet`\n"
     ]
    }
   ],
   "source": [
    "embeddings = HuggingFaceEmbeddings()"
   ]
  },
  {
   "cell_type": "code",
   "execution_count": 48,
   "id": "4134d449-d81a-4929-bb85-8df5ab569ff8",
   "metadata": {},
   "outputs": [],
   "source": [
    "load_dotenv()\n",
    "\n",
    "API_KEY = os.getenv(\"API_KEY\")\n",
    "\n",
    "MODEL = \"llama-3.3-70b-versatile\""
   ]
  },
  {
   "cell_type": "code",
   "execution_count": 49,
   "id": "87b8bd4e-b2d7-4f8c-acfa-d7c32a912635",
   "metadata": {},
   "outputs": [],
   "source": [
    "llm = ChatGroq(api_key=API_KEY, model=MODEL, temperature=0)"
   ]
  },
  {
   "cell_type": "code",
   "execution_count": 50,
   "id": "0c191dcc-d253-4862-98e9-6a873fa41557",
   "metadata": {},
   "outputs": [],
   "source": [
    "doc_search = Chroma.from_documents(texts, embeddings)"
   ]
  },
  {
   "cell_type": "markdown",
   "id": "19d9b252-4843-4941-afd9-1cc6d1ca8960",
   "metadata": {},
   "source": [
    "**Querying VectorDB Store**"
   ]
  },
  {
   "cell_type": "code",
   "execution_count": 51,
   "id": "4006188f-3560-40cf-b940-f83e4272471b",
   "metadata": {},
   "outputs": [],
   "source": [
    "query = \"I am looking for an animated sci-fi movie. What could you suggest to me?\""
   ]
  },
  {
   "cell_type": "code",
   "execution_count": 57,
   "id": "64b034dc-1182-45dc-a7c6-10b63e714545",
   "metadata": {},
   "outputs": [],
   "source": [
    "docs = doc_search.similarity_search(query, k=1)"
   ]
  },
  {
   "cell_type": "code",
   "execution_count": 58,
   "id": "c138d8d4-4803-42e2-8688-bc3eadcaa9f5",
   "metadata": {},
   "outputs": [
    {
     "data": {
      "text/plain": [
       "[Document(metadata={'source': './anime_info.csv', 'row': 161}, page_content='info: Title: Xenosaga The Animation. Genre: Action, Mecha, Sci-Fi, Shounen, Space. Overview: The year is T.C. 4767. Four thousand years have passed since humanity abandoned its birthplace, the planet Earth. Beset by the hostile alien Gnosis, mankind is now scrambling to find ways to defeat this threat to their existence. The development of KOS-MOS (a specialized android with amazing capabilities) by Vector engineer Shion Uzuki was one response to the threat. But when their ship is destroyed by the Gnosis, Shion and her companions find themselves thrust into the middle of a battle with no clear sides... (Source: Anime-Planet)')]"
      ]
     },
     "execution_count": 58,
     "metadata": {},
     "output_type": "execute_result"
    }
   ],
   "source": [
    "docs"
   ]
  },
  {
   "cell_type": "markdown",
   "id": "c4100224-0400-4df9-91b3-a3ceedc77dfb",
   "metadata": {},
   "source": [
    "**Using QA Retrieval**"
   ]
  },
  {
   "cell_type": "code",
   "execution_count": 59,
   "id": "0efb8eaa-539b-4075-b9a6-54a30c8d5534",
   "metadata": {},
   "outputs": [],
   "source": [
    "qa = RetrievalQA.from_chain_type(llm, chain_type=\"stuff\", retriever=doc_search.as_retriever(), return_source_documents=True)"
   ]
  },
  {
   "cell_type": "code",
   "execution_count": 61,
   "id": "948730c2-7d64-4d81-a2c8-0f8266bfc494",
   "metadata": {},
   "outputs": [],
   "source": [
    "query = \"Can you recommend me a sci-fi anime with a unique storyline?\"\n",
    "result = qa.invoke({\"query\": query})"
   ]
  },
  {
   "cell_type": "code",
   "execution_count": 62,
   "id": "aaabac4d-2918-4431-b934-0b8b0eb643fd",
   "metadata": {},
   "outputs": [
    {
     "data": {
      "text/plain": [
       "'Based on the information I have, I\\'d like to recommend \"Xenosaga The Animation\" or \"Divergence Eve 2: Misaki Chronicles\". Both of these anime series have unique storylines that involve sci-fi elements, space, and mecha.\\n\\n\"Xenosaga The Animation\" is set in a future where humanity has abandoned Earth and is fighting against hostile aliens known as the Gnosis. The story follows Shion Uzuki, an engineer who develops a powerful android named KOS-MOS, and her companions as they become embroiled in a battle with no clear sides.\\n\\n\"Divergence Eve 2: Misaki Chronicles\", on the other hand, involves a complex storyline with time travel, alternate timelines, and multiple versions of the main character, Misaki. The series explores themes of identity, reality, and the consequences of playing with time.\\n\\nBoth series have intricate plots and explore complex ideas, making them great recommendations for someone looking for a unique sci-fi anime storyline.'"
      ]
     },
     "execution_count": 62,
     "metadata": {},
     "output_type": "execute_result"
    }
   ],
   "source": [
    "result['result']"
   ]
  },
  {
   "cell_type": "code",
   "execution_count": 63,
   "id": "faacc011-db1d-4e5f-ad50-d1796eb3931d",
   "metadata": {},
   "outputs": [
    {
     "data": {
      "text/plain": [
       "Document(metadata={'row': 161, 'source': './anime_info.csv'}, page_content='info: Title: Xenosaga The Animation. Genre: Action, Mecha, Sci-Fi, Shounen, Space. Overview: The year is T.C. 4767. Four thousand years have passed since humanity abandoned its birthplace, the planet Earth. Beset by the hostile alien Gnosis, mankind is now scrambling to find ways to defeat this threat to their existence. The development of KOS-MOS (a specialized android with amazing capabilities) by Vector engineer Shion Uzuki was one response to the threat. But when their ship is destroyed by the Gnosis, Shion and her companions find themselves thrust into the middle of a battle with no clear sides... (Source: Anime-Planet)')"
      ]
     },
     "execution_count": 63,
     "metadata": {},
     "output_type": "execute_result"
    }
   ],
   "source": [
    "result['source_documents'][0]"
   ]
  },
  {
   "cell_type": "markdown",
   "id": "84fa5289-295b-469a-8259-4803ee71fec2",
   "metadata": {},
   "source": [
    "**Prompt Engineering**"
   ]
  },
  {
   "cell_type": "code",
   "execution_count": 64,
   "id": "ca1bdc2a-edcf-43fc-87b8-9c3ced983d21",
   "metadata": {},
   "outputs": [],
   "source": [
    "from langchain.prompts import PromptTemplate"
   ]
  },
  {
   "cell_type": "code",
   "execution_count": 67,
   "id": "5b46419e-950f-421c-948b-1fc3b362bda8",
   "metadata": {},
   "outputs": [],
   "source": [
    "template = \"\"\"\n",
    "You are an anime recommenation system that helps users find anime that match their preferences.\n",
    "Use the following pieces of context to answer the question at the end.\n",
    "For each question, suggest three anime, with a short description of the plot and the reason.\n",
    "If you dont know, just say so, dont try to make up an answer.\n",
    "\n",
    "{context}\n",
    "\n",
    "Question: {question}\n",
    "Your response: \n",
    "\"\"\""
   ]
  },
  {
   "cell_type": "code",
   "execution_count": 68,
   "id": "a687f5cb-86eb-474f-8ea1-32a25b94909a",
   "metadata": {},
   "outputs": [],
   "source": [
    "prompt = PromptTemplate(template=template, input_variables=[\"context\", \"question\"])"
   ]
  },
  {
   "cell_type": "code",
   "execution_count": 69,
   "id": "dad115e8-2453-4ec5-865b-ead52ca9d311",
   "metadata": {},
   "outputs": [],
   "source": [
    "chain_type_kwargs = {\"prompt\": prompt}"
   ]
  },
  {
   "cell_type": "code",
   "execution_count": 70,
   "id": "da91f843-8ef5-48de-8233-380ab733bb63",
   "metadata": {},
   "outputs": [],
   "source": [
    "qa = RetrievalQA.from_chain_type(llm, chain_type=\"stuff\", retriever=doc_search.as_retriever(), return_source_documents=True, chain_type_kwargs=chain_type_kwargs)"
   ]
  },
  {
   "cell_type": "code",
   "execution_count": 71,
   "id": "844416b3-30c7-4b54-989b-ff3ab54490f6",
   "metadata": {},
   "outputs": [],
   "source": [
    "query = \"Can you recommend me an anime about Pirates?\"\n",
    "result = qa.invoke({\"query\": query})"
   ]
  },
  {
   "cell_type": "code",
   "execution_count": 73,
   "id": "af20e7e4-9172-4d9e-9ed5-5da18bbc7a6a",
   "metadata": {},
   "outputs": [
    {
     "name": "stdout",
     "output_type": "stream",
     "text": [
      "Based on your interest in pirates, I'd like to recommend the following three anime:\n",
      "\n",
      "1. **One Piece**: This anime is a classic pirate-themed adventure that follows Monkey D. Luffy and his crew as they travel across the Grand Line in search of the ultimate treasure, One Piece. With a mix of action, comedy, and fantasy, One Piece is a great fit for anyone looking for a pirate-themed anime.\n",
      "2. **Vandread**: While not exclusively a pirate anime, Vandread features a group of female pirates who play a central role in the story. The anime combines elements of science fiction, action, and comedy, and explores the themes of cooperation and understanding between different groups.\n",
      "3. **Ou Dorobou Jing**: Although not traditional pirates, Jing and his partner Kir can be considered a type of \"space pirate\" or thief. The anime features a mix of adventure, comedy, and fantasy, and follows Jing's exploits as he travels from town to town, stealing valuable items and using his cunning and skills to outwit his enemies.\n",
      "\n",
      "All three anime offer a unique take on the pirate theme, and I hope you find one that suits your interests!\n"
     ]
    }
   ],
   "source": [
    "print(result['result'])"
   ]
  },
  {
   "cell_type": "markdown",
   "id": "91262a17-b27f-466a-b88a-35975388c554",
   "metadata": {},
   "source": [
    "**New Template**"
   ]
  },
  {
   "cell_type": "code",
   "execution_count": 74,
   "id": "3b5f0026-461d-4343-a039-e962aa63f55b",
   "metadata": {},
   "outputs": [
    {
     "name": "stdout",
     "output_type": "stream",
     "text": [
      "\n",
      "You are an anime recommenation system that helps users find anime that match their preferences.\n",
      "Use the following pieces of context to answer the question at the end.\n",
      "For each question, suggest three anime, with a short description of the plot and the reason.\n",
      "If you dont know, just say so, dont try to make up an answer.\n",
      "\n",
      "{context}\n",
      "\n",
      "\n",
      "This is what we know about the user, and you can use this information to better recommendations\n",
      "Age: 18\n",
      "Gender: male\n",
      "\n",
      "\n",
      "Question: {question}\n",
      "Your response: \n",
      "\n"
     ]
    }
   ],
   "source": [
    "template_prefix = \"\"\"\n",
    "You are an anime recommenation system that helps users find anime that match their preferences.\n",
    "Use the following pieces of context to answer the question at the end.\n",
    "For each question, suggest three anime, with a short description of the plot and the reason.\n",
    "If you dont know, just say so, dont try to make up an answer.\n",
    "\n",
    "{context}\n",
    "\"\"\"\n",
    "\n",
    "\n",
    "user_info = \"\"\"\n",
    "This is what we know about the user, and you can use this information to better recommendations\n",
    "Age: {age}\n",
    "Gender: {gender}\n",
    "\"\"\"\n",
    "\n",
    "template_suffix = \"\"\"\n",
    "Question: {question}\n",
    "Your response: \n",
    "\"\"\"\n",
    "\n",
    "user_info = user_info.format(age=18, gender=\"male\")\n",
    "\n",
    "Combined_prompt = template_prefix + \"\\n\" + user_info + \"\\n\" + template_suffix\n",
    "\n",
    "print(Combined_prompt)"
   ]
  },
  {
   "cell_type": "code",
   "execution_count": 76,
   "id": "4be11e70-9416-4824-b450-901c5da14a41",
   "metadata": {},
   "outputs": [
    {
     "name": "stdout",
     "output_type": "stream",
     "text": [
      "A great request! Based on your interest in ninjas, I'd like to recommend the following three anime:\n",
      "\n",
      "1. **Ninin ga Shinobuden**: This anime is a comedy-focused series that parodies the ninja genre. It follows the story of Kaede, a normal school girl, and Shinobu, a ninja-in-training, as they form an unexpected friendship. The series is light-hearted and humorous, making it a great choice for those looking for a fun ninja-themed anime.\n",
      "2. **Basilisk: Kouga Ninpou Chou**: This anime is a more serious and action-packed series set in feudal Japan. It follows the story of two ninja clans, the Iga and Kouga, as they engage in a bitter war. The series explores themes of love, duty, and loyalty, making it a great choice for those looking for a more dramatic ninja anime.\n",
      "3. **Rekka no Honoo**: This anime follows the story of Rekka, a self-styled modern-day ninja who discovers he's the last surviving member of a legendary ninja clan. The series combines action, adventure, and martial arts, making it a great choice for those looking for a ninja anime with a strong focus on combat and self-discovery.\n",
      "\n",
      "All three anime offer unique perspectives on the ninja genre, so you're sure to find one that suits your tastes!\n"
     ]
    }
   ],
   "source": [
    "prompt = PromptTemplate(template=template, input_variables=[\"context\", \"question\"])\n",
    "\n",
    "chain_type_kwargs = {\"prompt\": prompt}\n",
    "\n",
    "qa = RetrievalQA.from_chain_type(llm, chain_type=\"stuff\", retriever=doc_search.as_retriever(), return_source_documents=True, chain_type_kwargs=chain_type_kwargs)\n",
    "\n",
    "query = \"Can you recommend me an anime about Ninjas?\"\n",
    "result = qa.invoke({\"query\": query})\n",
    "\n",
    "print(result['result'])"
   ]
  }
 ],
 "metadata": {
  "kernelspec": {
   "display_name": "Python 3 (ipykernel)",
   "language": "python",
   "name": "python3"
  },
  "language_info": {
   "codemirror_mode": {
    "name": "ipython",
    "version": 3
   },
   "file_extension": ".py",
   "mimetype": "text/x-python",
   "name": "python",
   "nbconvert_exporter": "python",
   "pygments_lexer": "ipython3",
   "version": "3.11.3"
  }
 },
 "nbformat": 4,
 "nbformat_minor": 5
}
