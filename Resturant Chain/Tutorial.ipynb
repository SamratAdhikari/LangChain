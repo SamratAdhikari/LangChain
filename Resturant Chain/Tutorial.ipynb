{
 "cells": [
  {
   "cell_type": "markdown",
   "id": "3360ca6b-f60a-4ef6-b0f0-f1c35aa8774b",
   "metadata": {},
   "source": [
    "### Introduction"
   ]
  },
  {
   "cell_type": "code",
   "execution_count": 1,
   "id": "2a68e427-c588-48e3-8e98-ad06cf8ceb83",
   "metadata": {},
   "outputs": [],
   "source": [
    "import os\n",
    "from dotenv import load_dotenv"
   ]
  },
  {
   "cell_type": "code",
   "execution_count": 2,
   "id": "401195a9-cbbf-47eb-b199-b426c80b63f2",
   "metadata": {},
   "outputs": [],
   "source": [
    "load_dotenv()\n",
    "groq_api_key = os.getenv(\"GROQ_API_KEY\")"
   ]
  },
  {
   "cell_type": "code",
   "execution_count": 3,
   "id": "a3dd91a0-f970-4020-8dd4-719ed78126d8",
   "metadata": {},
   "outputs": [],
   "source": [
    "from langchain_groq import ChatGroq\n",
    "\n",
    "llm = ChatGroq(\n",
    "    groq_api_key=groq_api_key,\n",
    "    model_name=\"llama-3.1-8b-instant\"\n",
    ")"
   ]
  },
  {
   "cell_type": "code",
   "execution_count": 33,
   "id": "45902795-c6f5-438e-953b-db8fe8ef3925",
   "metadata": {},
   "outputs": [
    {
     "name": "stdout",
     "output_type": "stream",
     "text": [
      "content='Yak Cha Bar' additional_kwargs={} response_metadata={'token_usage': {'completion_tokens': 5, 'prompt_tokens': 61, 'total_tokens': 66, 'completion_time': 0.023298345, 'prompt_time': 0.003681218, 'queue_time': 0.052217442, 'total_time': 0.026979563}, 'model_name': 'llama-3.1-8b-instant', 'system_fingerprint': 'fp_510c177af0', 'service_tier': 'on_demand', 'finish_reason': 'stop', 'logprobs': None} id='run--0f94ae31-82b3-4c38-809f-fff30b2f5d99-0' usage_metadata={'input_tokens': 61, 'output_tokens': 5, 'total_tokens': 66}\n"
     ]
    }
   ],
   "source": [
    "prompt = \"I want to open a restaurant for Nepali food. Suggest a fancy name for the restaurant. Give me a name only.\"\n",
    "response = llm.invoke(prompt)\n",
    "print(response)"
   ]
  },
  {
   "cell_type": "code",
   "execution_count": 12,
   "id": "635ebffd-f762-42e4-8b36-e15054e4d65a",
   "metadata": {},
   "outputs": [
    {
     "data": {
      "text/plain": [
       "'I want to open a restaurant for Nepali food. Suggest a fancy name for the restaurant. Give me just a name.'"
      ]
     },
     "execution_count": 12,
     "metadata": {},
     "output_type": "execute_result"
    }
   ],
   "source": [
    "from langchain.prompts import PromptTemplate\n",
    "\n",
    "prompt_template_resturant = PromptTemplate(\n",
    "    input_variables = ['nationality'],\n",
    "    template = \"I want to open a restaurant for {nationality} food. Suggest a fancy name for the restaurant. Give me just a name.\"\n",
    ")\n",
    "\n",
    "\n",
    "prompt_template_resturant.format(nationality=\"Nepali\")"
   ]
  },
  {
   "cell_type": "code",
   "execution_count": 31,
   "id": "5cb3d805-ab46-4ceb-8fa6-88823706f8f1",
   "metadata": {},
   "outputs": [
    {
     "data": {
      "text/plain": [
       "'\"Kathmandu Oasis\"'"
      ]
     },
     "execution_count": 31,
     "metadata": {},
     "output_type": "execute_result"
    }
   ],
   "source": [
    "from langchain.chains import LLMChain\n",
    "\n",
    "chain = LLMChain(llm=llm, prompt=prompt_template_resturant)\n",
    "chain.run(\"Nepali\")"
   ]
  },
  {
   "cell_type": "markdown",
   "id": "130ab0bb-9a8b-4e3a-b53f-5fc6ab517530",
   "metadata": {},
   "source": [
    "### Sequence Chain"
   ]
  },
  {
   "cell_type": "code",
   "execution_count": 27,
   "id": "90a51d1f-6790-4e6b-b34d-748ce6100a41",
   "metadata": {},
   "outputs": [],
   "source": [
    "llm = ChatGroq(\n",
    "    groq_api_key=groq_api_key,\n",
    "    model_name=\"llama-3.1-8b-instant\"\n",
    ")\n",
    "\n",
    "prompt_template_name = PromptTemplate(\n",
    "    input_variables = ['nationality'],\n",
    "    template = \"I want to open a restaurant for {nationality} food. Suggest a fancy name for the restaurant. Give me just a name.\"\n",
    ")\n",
    "\n",
    "name_chain = LLMChain(llm=llm, prompt=prompt_template_name)\n",
    "\n",
    "\n",
    "prompt_template_items = PromptTemplate(\n",
    "    input_variables = ['resturant name'],\n",
    "    template = \"Make up some menu items for {resturant name}. Return it as a comma seperated list.\"\n",
    ")\n",
    "\n",
    "items_chain = LLMChain(llm=llm, prompt=prompt_template_items)"
   ]
  },
  {
   "cell_type": "code",
   "execution_count": 35,
   "id": "12f0b547-4396-4b68-9dc9-e3c6cd1da23f",
   "metadata": {},
   "outputs": [
    {
     "name": "stdout",
     "output_type": "stream",
     "text": [
      "Here are some menu items for \"Kathmandu Palace\":\n",
      "\n",
      "Chicken Tikka Masala, Vegetable Samosas, Lamb Korma, Saag Aloo, Palak Paneer, Momo Platter, Nepal Chicken Curry, Gorkhali Lamb Chops, Garlic Naan, Vegetable Biryani, Tandoori Chicken, Kachoris, Kathmandu Veggie Wrap.\n",
      "\n",
      "If you want me to categorize them into different sections (appetizers, main courses, sides, etc.), I can do that as well. Let me know!\n"
     ]
    }
   ],
   "source": [
    "from langchain.chains import SimpleSequentialChain\n",
    "\n",
    "chain = SimpleSequentialChain(chains = [name_chain, items_chain])\n",
    "\n",
    "response = chain.run(\"Nepali\")\n",
    "\n",
    "print(response)"
   ]
  },
  {
   "cell_type": "markdown",
   "id": "af502dd6-1b19-485d-a115-9a7e3e4609e0",
   "metadata": {},
   "source": [
    "**To show the intermediate output**"
   ]
  },
  {
   "cell_type": "code",
   "execution_count": 41,
   "id": "37f00642-e4a0-48e5-8bab-4cf106e3f57d",
   "metadata": {},
   "outputs": [],
   "source": [
    "llm = ChatGroq(\n",
    "    groq_api_key=groq_api_key,\n",
    "    model_name=\"llama-3.1-8b-instant\"\n",
    ")\n",
    "\n",
    "prompt_template_name = PromptTemplate(\n",
    "    input_variables = ['nationality'],\n",
    "    template = \"I want to open a restaurant for {nationality} food. Suggest a fancy name for the restaurant. Give me just a name.\"\n",
    ")\n",
    "\n",
    "name_chain = LLMChain(llm=llm, prompt=prompt_template_name, output_key=\"resturant_name\")\n",
    "\n",
    "\n",
    "prompt_template_items = PromptTemplate(\n",
    "    input_variables = ['resturant_name'],\n",
    "    template = \"Make up some menu items for {resturant_name}. Return it as a comma seperated list.\"\n",
    ")\n",
    "\n",
    "items_chain = LLMChain(llm=llm, prompt=prompt_template_items, output_key=\"menu_items\")"
   ]
  },
  {
   "cell_type": "code",
   "execution_count": 44,
   "id": "a9d4fcbc-ef0f-4088-96cd-c44591657349",
   "metadata": {},
   "outputs": [
    {
     "name": "stdout",
     "output_type": "stream",
     "text": [
      "{'nationality': 'Nepali', 'resturant_name': '\"Rashtradhwaja\"', 'menu_items': 'Here\\'s a list of menu items for \"Rashtradhwaja\", a fictional Indian restaurant:\\n\\nRajasthani Laal Maans, Chicken Tikka Tandoori, Palak Paneer, Amritsari Kulche, Baingan Bharta, Hyderabadi Haleem, Malabar Fish Curry, Mattar Paneer, Dahi Vada, Aloo Gobhi, Mysore Masala Dosa, Chicken Biryani.\\n\\nNote: \\'Rashtradhwaja\\' is the Hindi word for \\'National Flag\\'. The menu items are inspired by the diverse and rich culinary heritage of India.'}\n"
     ]
    }
   ],
   "source": [
    "from langchain.chains import SequentialChain\n",
    "\n",
    "chain = SequentialChain(chains = [name_chain, items_chain],\n",
    "                              input_variables = ['nationality'], \n",
    "                              output_variables = ['resturant_name', \"menu_items\"])\n",
    "\n",
    "response = chain.invoke({\"nationality\": \"Nepali\"})\n",
    "\n",
    "print(response)"
   ]
  },
  {
   "cell_type": "code",
   "execution_count": null,
   "id": "ff079164-46e9-4116-8600-ffc31bce7c4e",
   "metadata": {},
   "outputs": [],
   "source": []
  }
 ],
 "metadata": {
  "kernelspec": {
   "display_name": "Python 3 (ipykernel)",
   "language": "python",
   "name": "python3"
  },
  "language_info": {
   "codemirror_mode": {
    "name": "ipython",
    "version": 3
   },
   "file_extension": ".py",
   "mimetype": "text/x-python",
   "name": "python",
   "nbconvert_exporter": "python",
   "pygments_lexer": "ipython3",
   "version": "3.11.3"
  }
 },
 "nbformat": 4,
 "nbformat_minor": 5
}
